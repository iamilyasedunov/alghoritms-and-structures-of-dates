{
 "cells": [
  {
   "cell_type": "markdown",
   "metadata": {},
   "source": [
    "## Count sort ##"
   ]
  },
  {
   "cell_type": "code",
   "execution_count": 5,
   "metadata": {},
   "outputs": [
    {
     "name": "stdout",
     "output_type": "stream",
     "text": [
      "[ 902  777  990 ... -708 -715 -552] 3.814788818359375 gb\n",
      "[-999. -999. -999. ...  999.  999.  999.]\n",
      "Wall time: 1.82 s\n"
     ]
    }
   ],
   "source": [
    "%%time\n",
    "import numpy as np\n",
    "import sys\n",
    "\n",
    "m = np.random.randint(-1000, 1000, size = 1000000, dtype = int)\n",
    "size = sys.getsizeof(m)\n",
    "\n",
    "print(m, size/1024/1024, 'gb')\n",
    "\n",
    "np.random.shuffle(m)\n",
    "m_max = abs(max(m))\n",
    "m_sorted = np.zeros(len(m))\n",
    "count = np.zeros((2*m_max) + 1, int)\n",
    "for i in range(len(m)):\n",
    "    count[m[i]+m_max] +=1\n",
    "p=0\n",
    "for i in range(len(count)):\n",
    "    for j in range(count[i]):\n",
    "        m_sorted[p]=i - m_max\n",
    "        p+=1\n",
    "\n",
    "print(m_sorted)\n",
    "\n",
    "        "
   ]
  },
  {
   "cell_type": "code",
   "execution_count": null,
   "metadata": {},
   "outputs": [],
   "source": []
  },
  {
   "cell_type": "code",
   "execution_count": null,
   "metadata": {},
   "outputs": [],
   "source": []
  },
  {
   "cell_type": "code",
   "execution_count": null,
   "metadata": {},
   "outputs": [],
   "source": []
  }
 ],
 "metadata": {
  "kernelspec": {
   "display_name": "Python 3",
   "language": "python",
   "name": "python3"
  },
  "language_info": {
   "codemirror_mode": {
    "name": "ipython",
    "version": 3
   },
   "file_extension": ".py",
   "mimetype": "text/x-python",
   "name": "python",
   "nbconvert_exporter": "python",
   "pygments_lexer": "ipython3",
   "version": "3.6.3"
  }
 },
 "nbformat": 4,
 "nbformat_minor": 2
}
