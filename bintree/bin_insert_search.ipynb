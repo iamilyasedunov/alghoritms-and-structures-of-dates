{
 "cells": [
  {
   "cell_type": "code",
   "execution_count": 18,
   "metadata": {},
   "outputs": [
    {
     "name": "stdout",
     "output_type": "stream",
     "text": [
      "20\n",
      "20\n",
      "20\n",
      "20\n",
      "20\n",
      "20\n",
      "20\n",
      "20\n",
      "20\n",
      "20\n",
      "20\n",
      "20\n",
      "20\n",
      "20\n",
      "20\n",
      "40 20 20\n"
     ]
    }
   ],
   "source": [
    "class Tree(object):\n",
    "    def __init__(self):\n",
    "        self.data=None\n",
    "        self.left=None\n",
    "        self.right=None\n",
    "    def insert(self, x, root):\n",
    "        if root==None:\n",
    "            t=node(x)\n",
    "            t.data=x\n",
    "            t.right=None\n",
    "            t.left=None\n",
    "            root=t\n",
    "            return root\n",
    "        elif x<root.data:\n",
    "            root.left=self.insert(x, root.left)\n",
    "        else:\n",
    "            root.right=self.insert(x, root.right)\n",
    "        return root\n",
    "        \n",
    "    def printTree(self, t):\n",
    "        if t==None:\n",
    "            return\n",
    "\n",
    "        self.printTree(t.left)\n",
    "        print(t.data)\n",
    "        self.printTree(t.right)\n",
    "\n",
    "class node(object):\n",
    "    def __init__(self, x):\n",
    "        self.x=x\n",
    "\n",
    "def search_(root, low, high):\n",
    "        if root == None:\n",
    "            return\n",
    "        if (low <= root.data <= high):\n",
    "            print('data = ', root.data,'| left = ', root.left, '| right = ', root.right, '\\n')\n",
    "        if (root.left != None)and(root.left.data >=  low):\n",
    "            search(root.left, low, high)    \n",
    "        if (root.right != None)and(root.right.data <=  high):\n",
    "            search(root.right, low, high) \n",
    "\n",
    "def common_anc(root, a, b):\n",
    "    if (a.data < root.data)and(b.data < root.data):\n",
    "        return common_anc(root.left, a, b)\n",
    "    if (a.data > root.data)and(b.data > root.data):\n",
    "        return common_anc(root.right, a, b)\n",
    "    return root   \n",
    "\n",
    "bt=Tree()\n",
    "root=None\n",
    "V = [20, 10, 40, 6, 15, 30, 45, 2, 8, 12, 17, 25, 31, 42, 47]\n",
    "low, high = 12, 36\n",
    "dis_low, dis_high = 1000, 1000\n",
    "\n",
    "\n",
    "for x in V:\n",
    "    root = bt.insert(x, root)\n",
    "    \n",
    "    if (abs(high - x) < dis_high):\n",
    "        near_high = root\n",
    "        dis_high = abs(near_high.data - x)\n",
    "        \n",
    "    if (abs(low - x) < dis_low):\n",
    "        near_low = root\n",
    "        dis_low = abs(near_low.data - x)\n",
    "        \n",
    "vec = common_anc(root, root.right.left.right, root.right)\n",
    "print(vec.data, near_low.data, near_high.data)"
   ]
  },
  {
   "cell_type": "code",
   "execution_count": null,
   "metadata": {},
   "outputs": [],
   "source": []
  },
  {
   "cell_type": "code",
   "execution_count": null,
   "metadata": {},
   "outputs": [],
   "source": []
  }
 ],
 "metadata": {
  "kernelspec": {
   "display_name": "Python 3",
   "language": "python",
   "name": "python3"
  },
  "language_info": {
   "codemirror_mode": {
    "name": "ipython",
    "version": 3
   },
   "file_extension": ".py",
   "mimetype": "text/x-python",
   "name": "python",
   "nbconvert_exporter": "python",
   "pygments_lexer": "ipython3",
   "version": "3.6.3"
  }
 },
 "nbformat": 4,
 "nbformat_minor": 2
}
