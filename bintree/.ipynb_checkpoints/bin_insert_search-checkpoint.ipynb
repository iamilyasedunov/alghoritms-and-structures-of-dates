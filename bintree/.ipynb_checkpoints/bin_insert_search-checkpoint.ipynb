{
 "cells": [
  {
   "cell_type": "code",
   "execution_count": 41,
   "metadata": {},
   "outputs": [
    {
     "name": "stdout",
     "output_type": "stream",
     "text": [
      "7\n",
      "20\n",
      "34\n",
      "17\n",
      "68\n",
      "68\n",
      "96\n",
      "77\n",
      "61\n",
      "58\n",
      "\n",
      "\n",
      "17\n",
      "7\n",
      "34\n",
      "20\n"
     ]
    }
   ],
   "source": [
    "class Tree(object):\n",
    "    def __init__(self):\n",
    "        self.data=None\n",
    "        self.left=None\n",
    "        self.right=None\n",
    "    def insert(self, x, root):\n",
    "        if root==None:\n",
    "            t=node(x)\n",
    "            t.data=x\n",
    "            t.right=None\n",
    "            t.left=None\n",
    "            root=t\n",
    "            return root\n",
    "        elif x<root.data:\n",
    "            root.left=self.insert(x, root.left)\n",
    "        else:\n",
    "            root.right=self.insert(x, root.right)\n",
    "        return root\n",
    "        \n",
    "    def printTree(self, t):\n",
    "        if t==None:\n",
    "            return\n",
    "        self.printTree(t.left)\n",
    "        self.printTree(t.right)\n",
    "        print(t.data)\n",
    "\n",
    "class node(object):\n",
    "    def __init__(self, x):\n",
    "        self.x=x\n",
    "\n",
    "def search_(root, low, high):\n",
    "        if root == None:\n",
    "            return\n",
    "        if (low <= root.data <= high):\n",
    "            print(root.data)\n",
    "        if (root.left != None)and(root.left.data >=  low):\n",
    "            #print(root.left.data)\n",
    "            search_(root.left, low, high)    \n",
    "        if (root.right != None)and(root.right.data <=  high):\n",
    "            #print(root.right.data)\n",
    "            search_(root.right, low, high) \n",
    "\n",
    "def common_anc(root, a, b):\n",
    "    if (a.data < root.data)and(b.data < root.data):\n",
    "        return common_anc(root.left, a, b)\n",
    "    if (a.data > root.data)and(b.data > root.data):\n",
    "        return common_anc(root.right, a, b)\n",
    "    return root   \n",
    "\n",
    "bt=Tree()\n",
    "root = None\n",
    "V = [58, 17, 61, 7, 34, 77, 20, 68, 96, 68]\n",
    "for x in V:\n",
    "    root = bt.insert(x, root)\n",
    "    \n",
    "bt.printTree(root)\n",
    "print('\\n')\n",
    " \n",
    "\n",
    "search_(root,,)"
   ]
  },
  {
   "cell_type": "code",
   "execution_count": null,
   "metadata": {},
   "outputs": [],
   "source": []
  }
 ],
 "metadata": {
  "kernelspec": {
   "display_name": "Python 3",
   "language": "python",
   "name": "python3"
  },
  "language_info": {
   "codemirror_mode": {
    "name": "ipython",
    "version": 3
   },
   "file_extension": ".py",
   "mimetype": "text/x-python",
   "name": "python",
   "nbconvert_exporter": "python",
   "pygments_lexer": "ipython3",
   "version": "3.6.6"
  }
 },
 "nbformat": 4,
 "nbformat_minor": 2
}
