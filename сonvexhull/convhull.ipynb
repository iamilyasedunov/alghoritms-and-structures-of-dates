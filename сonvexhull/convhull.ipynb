{
 "cells": [
  {
   "cell_type": "markdown",
   "metadata": {},
   "source": [
    "### Алгоритм Грэхема ### \n",
    "— алгоритм построения выпуклой оболочки в двумерном пространстве. В этом алгоритме задача о выпуклой оболочке решается с помощью стека, сформированного из точек-кандидатов. Все точки входного множества заносятся в стек, а потом точки, не являющиеся вершинами выпуклой оболочки, со временем удаляются из него. По завершении работы алгоритма в стеке остаются только вершины оболочки в порядке их обхода против часовой стрелки."
   ]
  },
  {
   "cell_type": "code",
   "execution_count": 166,
   "metadata": {},
   "outputs": [],
   "source": [
    "import numpy as np\n",
    "import matplotlib.pyplot as plt\n",
    "def plot_Q_S(Q_copy, S):\n",
    "    S.append(S[0]) #замыкаем множество S\n",
    "\n",
    "    fig = plt.figure()\n",
    "\n",
    "    X, Y = [], []\n",
    "    for p in Q_copy: \n",
    "        X.append(p[0])\n",
    "        Y.append(p[1])\n",
    "\n",
    "    plt.plot(X,Y,'go')\n",
    "    fig.show()\n",
    "\n",
    "    X, Y = [], []  \n",
    "    for s in S:\n",
    "        X.append(s[0])\n",
    "        Y.append(s[1])\n",
    "\n",
    "\n",
    "    plt.plot(X,Y)\n",
    "    fig.show()\n"
   ]
  },
  {
   "cell_type": "code",
   "execution_count": 167,
   "metadata": {},
   "outputs": [
    {
     "data": {
      "image/png": "[encoded data removed]",
      "text/plain": [
       "<Figure size 432x288 with 1 Axes>"
      ]
     },
     "metadata": {
      "needs_background": "light"
     },
     "output_type": "display_data"
    }
   ],
   "source": [
    "\n",
    "\n",
    "import numpy as np\n",
    "import math\n",
    "import copy\n",
    "\n",
    "def not_left_turn(a,b,c):\n",
    "    Ux = (b[0] - a[0])\n",
    "    Vy = (c[1] - b[1])\n",
    "    Uy = (b[1] - a[1])\n",
    "    Vx = (c[0] - b[0])\n",
    "    \n",
    "    #условие не левого поворота, которое должно выполняться\n",
    "    if (Ux*Vy - Uy*Vx)<0: \n",
    "        return True\n",
    "    else:\n",
    "        return False\n",
    "\n",
    "def cmp(x_, y_):\n",
    "    \n",
    "    #перенос системы координат, т.к измеряется полярный угол относительно p0\n",
    "    x = x_ - p0[0]   \n",
    "    y = y_ - p0[1]\n",
    "    \n",
    "    #вычисление полярного угла\n",
    "    if x>0 and y>=0:\n",
    "        return abs(math.atan(y/x))\n",
    "    if x>0 and y<0:\n",
    "        return abs(math.atan(y/x) + 2*math.pi)\n",
    "    if x<0:\n",
    "        return abs(math.atan(y/x) + math.pi)\n",
    "    if x==0 and y>0:\n",
    "        return abs(math.pi/2)\n",
    "    if x==0 and y<0:\n",
    "        return abs(3*math.pi/2)\n",
    "\n",
    "Q = [(1, 6), (1.5, 3), (2, 1), (2, 5), (3, 8), (2.5, 3), (4, 6), (5, 5), (4, 1), (4.5, 3), (6, 8.5), (7, 6), (5, 2), (6, 0.5), (8, 2), (8.5, 4)]\n",
    "Q_copy = copy.copy(Q)\n",
    "\n",
    "p0 = (min(lst, key=lambda x: x[1])) #— точка из множества Q с минимальной координатой y\n",
    "Q.remove(p0)\n",
    "\n",
    "Q.sort(key = lambda x: cmp(x[0],x[1])) #остальные точки множества Q, \n",
    "                                       #отсортированные в порядке возрастания полярного угла, относительно p0\n",
    "\n",
    "S = [p0, Q[0]] #типа стэк\n",
    "\n",
    "Q = Q[1:]      #нужен список без добавленных в S элементов\n",
    "\n",
    "for p in Q:\n",
    "    while(not_left_turn(S[-2], S[-1], p)):\n",
    "        del S[-1]\n",
    "    S.append(p)\n",
    "        \n",
    "\n",
    "plot_Q_S(Q_copy, S)"
   ]
  }
 ],
 "metadata": {
  "kernelspec": {
   "display_name": "Python 3",
   "language": "python",
   "name": "python3"
  },
  "language_info": {
   "codemirror_mode": {
    "name": "ipython",
    "version": 3
   },
   "file_extension": ".py",
   "mimetype": "text/x-python",
   "name": "python",
   "nbconvert_exporter": "python",
   "pygments_lexer": "ipython3",
   "version": "3.6.6"
  }
 },
 "nbformat": 4,
 "nbformat_minor": 2
}
