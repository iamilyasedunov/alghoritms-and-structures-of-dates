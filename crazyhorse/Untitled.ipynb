{
 "cells": [
  {
   "cell_type": "code",
   "execution_count": 68,
   "metadata": {},
   "outputs": [
    {
     "data": {
      "text/plain": [
       "[[0, 9, 9, 9, 9],\n",
       " [9, 9, 9, 9, 9],\n",
       " [9, 9, 9, 9, 9],\n",
       " [9, 9, 9, 9, 9],\n",
       " [9, 9, 9, 9, 9]]"
      ]
     },
     "execution_count": 68,
     "metadata": {},
     "output_type": "execute_result"
    }
   ],
   "source": [
    "### import sys\n",
    "\n",
    "maximus = 9\n",
    "\n",
    "def check_around(num, i, j):\n",
    "    x = fields[num - 1][0]\n",
    "    \n",
    "    U,D,L,R = maximus, maximus, maximus, maximus\n",
    "    if i-1>=0 and x[i-1][j] != '#':\n",
    "        if x[i-1][j]==9:\n",
    "            U = -1\n",
    "        else:\n",
    "            U = x[i-1][j]\n",
    "    if i+1<=n-1 and x[i+1][j] != '#':\n",
    "        if x[i+1][j]==9:\n",
    "            D = -1\n",
    "        else:\n",
    "            D = x[i+1][j]\n",
    "    if j-1>=0 and x[i][j-1] != '#':\n",
    "        if x[i][j-1]==9:\n",
    "            L = 0\n",
    "        else:\n",
    "            L = x[i][j-1]\n",
    "    if j+1<=m and x[i][j+1] != '#':\n",
    "        if x[i][j+1]==9:\n",
    "            R = -1\n",
    "        else:\n",
    "            R = x[i][j+1]\n",
    "    return min(U,D,L,R) + 1\n",
    "    \n",
    "        \n",
    "def check_for_1_field():\n",
    "    if i==0 and j==0 and pattern[i][j]!='#':\n",
    "        return 0\n",
    "    return maximus\n",
    "    #здесь должен быть bfs\n",
    "        \n",
    "\n",
    "pattern = []\n",
    "with open('data.txt', encoding='ascii') as fin:\n",
    "    size = fin.readline().rstrip('\\n')\n",
    "    grenades = fin.readline().rstrip('\\n')\n",
    "    for line in fin:\n",
    "        pattern.append(list(line.rstrip('\\n')))\n",
    "n,m = size.split('x')\n",
    "n,m = int(n),int(m)\n",
    "\n",
    "sub_pattern = []\n",
    "for i in range(n):\n",
    "    sub_pattern.append([])\n",
    "    for j in range(m):  \n",
    "        x = check_for_1_field();\n",
    "        sub_pattern[i].append(x);\n",
    "                \n",
    "fields = []\n",
    "fields.append([sub_pattern,grenades])\n",
    "sub_pattern\n"
   ]
  },
  {
   "cell_type": "code",
   "execution_count": 69,
   "metadata": {},
   "outputs": [
    {
     "ename": "TypeError",
     "evalue": "'int' object is not subscriptable",
     "output_type": "error",
     "traceback": [
      "\u001b[1;31m---------------------------------------------------------------------------\u001b[0m",
      "\u001b[1;31mTypeError\u001b[0m                                 Traceback (most recent call last)",
      "\u001b[1;32m<ipython-input-69-4e6cd38d2e6b>\u001b[0m in \u001b[0;36m<module>\u001b[1;34m\u001b[0m\n\u001b[0;32m      7\u001b[0m         \u001b[1;32mif\u001b[0m \u001b[0mpattern\u001b[0m\u001b[1;33m[\u001b[0m\u001b[0mi\u001b[0m\u001b[1;33m]\u001b[0m\u001b[1;33m[\u001b[0m\u001b[0mj\u001b[0m\u001b[1;33m]\u001b[0m\u001b[1;33m==\u001b[0m\u001b[1;34m'#'\u001b[0m\u001b[1;33m:\u001b[0m\u001b[1;33m\u001b[0m\u001b[0m\n\u001b[0;32m      8\u001b[0m             \u001b[0mcheck_around\u001b[0m\u001b[1;33m(\u001b[0m\u001b[0mnum\u001b[0m\u001b[1;33m,\u001b[0m \u001b[0mi\u001b[0m\u001b[1;33m,\u001b[0m \u001b[0mj\u001b[0m\u001b[1;33m)\u001b[0m\u001b[1;33m\u001b[0m\u001b[0m\n\u001b[1;32m----> 9\u001b[1;33m             \u001b[0msub_pattern1\u001b[0m\u001b[1;33m[\u001b[0m\u001b[0mi\u001b[0m\u001b[1;33m]\u001b[0m\u001b[1;33m.\u001b[0m\u001b[0mappend\u001b[0m\u001b[1;33m(\u001b[0m\u001b[0mx\u001b[0m\u001b[1;33m[\u001b[0m\u001b[0mi\u001b[0m\u001b[1;33m]\u001b[0m\u001b[1;33m[\u001b[0m\u001b[0mj\u001b[0m\u001b[1;33m]\u001b[0m\u001b[1;33m)\u001b[0m\u001b[1;33m\u001b[0m\u001b[0m\n\u001b[0m\u001b[0;32m     10\u001b[0m \u001b[0msub_pattern1\u001b[0m\u001b[1;33m\u001b[0m\u001b[0m\n\u001b[0;32m     11\u001b[0m \u001b[0mcheck_around\u001b[0m\u001b[1;33m(\u001b[0m\u001b[1;36m1\u001b[0m\u001b[1;33m,\u001b[0m \u001b[1;36m0\u001b[0m\u001b[1;33m,\u001b[0m \u001b[1;36m1\u001b[0m\u001b[1;33m)\u001b[0m\u001b[1;33m\u001b[0m\u001b[0m\n",
      "\u001b[1;31mTypeError\u001b[0m: 'int' object is not subscriptable"
     ]
    }
   ],
   "source": [
    "### from collections import deque\n",
    "num = 1\n",
    "sub_pattern1 = []\n",
    "for i in range(n):\n",
    "    sub_pattern1.append([])\n",
    "    for j in range(m):\n",
    "        if pattern[i][j]=='#':\n",
    "            check_around(num, i, j)\n",
    "            sub_pattern1[i].append(x[i][j]) \n",
    "sub_pattern1\n",
    "check_around(1, 0, 1)"
   ]
  }
 ],
 "metadata": {
  "kernelspec": {
   "display_name": "Python 3",
   "language": "python",
   "name": "python3"
  },
  "language_info": {
   "codemirror_mode": {
    "name": "ipython",
    "version": 3
   },
   "file_extension": ".py",
   "mimetype": "text/x-python",
   "name": "python",
   "nbconvert_exporter": "python",
   "pygments_lexer": "ipython3",
   "version": "3.6.6"
  }
 },
 "nbformat": 4,
 "nbformat_minor": 2
}
