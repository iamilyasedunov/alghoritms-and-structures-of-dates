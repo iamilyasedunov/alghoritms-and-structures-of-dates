{
 "cells": [
  {
   "cell_type": "code",
   "execution_count": 2,
   "metadata": {},
   "outputs": [
    {
     "name": "stdout",
     "output_type": "stream",
     "text": [
      "\n"
     ]
    },
    {
     "data": {
      "text/plain": [
       "16796"
      ]
     },
     "execution_count": 2,
     "metadata": {},
     "output_type": "execute_result"
    }
   ],
   "source": [
    "def init_condition(seq):\n",
    "    if (seq[0]==C) or (seq[-1]==O) or len(seq)%2 != 0:\n",
    "        return False\n",
    "    if seq[0] == Q:\n",
    "        seq = O + seq[1:]\n",
    "    if seq[-1] == Q:\n",
    "        seq = seq[:-1]+C\n",
    "\n",
    "    return seq\n",
    "    \n",
    "def catalan(n):\n",
    "    n1, n2 = 1,1\n",
    "    for i in range(1,n+1):\n",
    "        n2 = n2*i\n",
    "        #print(n2, i)\n",
    "    print()\n",
    "    for i in range(n + 1, 2*n + 1):\n",
    "        n1 = n1*i\n",
    "        #print(n1, i)\n",
    "        \n",
    "    return int(n1/(n2*(n+1)))\n",
    "    \n",
    "O = \"(\"\n",
    "C = \")\"\n",
    "Q = \"?\"\n",
    "\n",
    "catalan(10)\n",
    "\n"
   ]
  },
  {
   "cell_type": "code",
   "execution_count": 4,
   "metadata": {},
   "outputs": [
    {
     "name": "stdout",
     "output_type": "stream",
     "text": [
      "44 44\n",
      "\n",
      "91482563640\n"
     ]
    }
   ],
   "source": [
    "pattern = []\n",
    "for i in range(44):\n",
    "    pattern.append('?')\n",
    "pattern\n",
    "balance = []\n",
    "lenght = []\n",
    "print(len(pattern), pattern.count('?'))\n",
    "if (len(pattern) == pattern.count('?')):\n",
    "    ans = catalan(int(len(pattern)/2))\n",
    "    print(ans)"
   ]
  },
  {
   "cell_type": "code",
   "execution_count": 39,
   "metadata": {},
   "outputs": [
    {
     "name": "stdout",
     "output_type": "stream",
     "text": [
      "1 0 3\n",
      "1 1 2\n",
      "1 2 1\n",
      "1 1 0\n"
     ]
    },
    {
     "data": {
      "text/plain": [
       "1"
      ]
     },
     "execution_count": 39,
     "metadata": {},
     "output_type": "execute_result"
    }
   ],
   "source": [
    "ans = 0\n",
    "def f(i, op, ans):\n",
    "    if (i == len(s)):\n",
    "        return ans\n",
    "    if s[i] == '(':\n",
    "        op=op+1\n",
    "    if s[i] == ')':\n",
    "        op=op-1\n",
    "    \n",
    "    ans = f(i+1, op, ans)\n",
    "    if s[i] == '?':\n",
    "        ans =f(i+1,op+1, ans) + f(i+1, op-1, ans)\n",
    "    if op == 0:\n",
    "        ans = ans + 1\n",
    "    print(ans, op, i)\n",
    "    return ans\n",
    "i = 0\n",
    "op = 0      \n",
    "\n",
    "s = '(())'\n",
    "f(0,0,0)\n",
    "\n",
    "\n",
    "        \n"
   ]
  },
  {
   "cell_type": "code",
   "execution_count": 5,
   "metadata": {},
   "outputs": [
    {
     "data": {
      "text/plain": [
       "'?'"
      ]
     },
     "execution_count": 5,
     "metadata": {},
     "output_type": "execute_result"
    }
   ],
   "source": [
    "s[0]"
   ]
  }
 ],
 "metadata": {
  "kernelspec": {
   "display_name": "Python 3",
   "language": "python",
   "name": "python3"
  },
  "language_info": {
   "codemirror_mode": {
    "name": "ipython",
    "version": 3
   },
   "file_extension": ".py",
   "mimetype": "text/x-python",
   "name": "python",
   "nbconvert_exporter": "python",
   "pygments_lexer": "ipython3",
   "version": "3.6.6"
  }
 },
 "nbformat": 4,
 "nbformat_minor": 2
}
